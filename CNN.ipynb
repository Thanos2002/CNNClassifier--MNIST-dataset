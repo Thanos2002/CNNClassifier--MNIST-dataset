{
  "cells": [
    {
      "cell_type": "markdown",
      "metadata": {
        "id": "view-in-github",
        "colab_type": "text"
      },
      "source": [
        "<a href=\"https://colab.research.google.com/github/Thanos2002/Easy-CNN-Digit-Classifier/blob/main/CNN.ipynb\" target=\"_parent\"><img src=\"https://colab.research.google.com/assets/colab-badge.svg\" alt=\"Open In Colab\"/></a>"
      ]
    },
    {
      "cell_type": "markdown",
      "metadata": {
        "id": "lPKRcKtJFRcf"
      },
      "source": [
        "- In this example, we are using Google Collab, that already has pytorch and scipy installed.\n",
        "In any other case it might be necessary to install them.\n",
        "However, if you encounter an issue such as a missing package try installing the libraries manualy (e.g `!pip install torchvision`.)"
      ]
    },
    {
      "cell_type": "code",
      "execution_count": 167,
      "metadata": {
        "id": "nPmOKEbjEUMM"
      },
      "outputs": [],
      "source": [
        "import scipy\n",
        "import torch.nn as nn\n",
        "import torch.nn.functional as F\n",
        "import torch\n",
        "from torch.autograd import Variable"
      ]
    },
    {
      "cell_type": "markdown",
      "metadata": {
        "id": "kqwVIUtMHKJt"
      },
      "source": [
        "- The following code downloads the MNIST dataset from `torchvision.datasets` ,  into the `mnist` folder located in the root path.       "
      ]
    },
    {
      "cell_type": "code",
      "execution_count": 168,
      "metadata": {
        "colab": {
          "base_uri": "https://localhost:8080/"
        },
        "id": "piE98VbUG55w",
        "outputId": "136fa22a-a03f-4701-f7f6-c3d8c81fdb0f"
      },
      "outputs": [
        {
          "output_type": "stream",
          "name": "stdout",
          "text": [
            "Drive already mounted at /content/drive; to attempt to forcibly remount, call drive.mount(\"/content/drive\", force_remount=True).\n"
          ]
        }
      ],
      "source": [
        "import torch\n",
        "import torchvision.datasets as datasets\n",
        "from google.colab import drive\n",
        "\n",
        "# import additional libs in case not already done in 'askisi 1'\n",
        "import matplotlib.pyplot as plt\n",
        "import numpy as np\n",
        "\n",
        "# Define the dataset directory\n",
        "drive.mount('/content/drive')\n",
        "path = '/content/gdrive/assignment/'\n",
        "\n",
        "# Create the directory if it doesn't exist\n",
        "# Load the MNIST training dataset\n",
        "train_dataset = datasets.MNIST(root=path, train=True, download=True)\n",
        "\n",
        "# Extract the images and labels from the training dataset\n",
        "X_train = train_dataset.data.numpy()\n",
        "y_train = train_dataset.targets.numpy()\n",
        "\n",
        "# Load the MNIST testing dataset\n",
        "test_dataset = datasets.MNIST(root=path, train=False, download=True)\n",
        "\n",
        "# Extract the images and labels from the testing dataset\n",
        "X_test = test_dataset.data.numpy()\n",
        "y_test = test_dataset.targets.numpy()"
      ]
    },
    {
      "cell_type": "markdown",
      "metadata": {
        "id": "dHBxvGNeITN6"
      },
      "source": [
        "- Below, we display one random example image for each label (category) from the training data, corresponding to the categories, in order to examine the data that we are working with."
      ]
    },
    {
      "cell_type": "code",
      "execution_count": 169,
      "metadata": {
        "id": "5kMZ082jI3RE"
      },
      "outputs": [],
      "source": [
        "def plot_mnist_sample_high_res(X_train, y_train):\n",
        "    \"\"\"\n",
        "    This function plots a sample image for each category,\n",
        "    The result is a figure with 2x5 grid of images.\n",
        "\n",
        "    \"\"\"\n",
        "    \"\"\" ==========\n",
        "    YOUR CODE HERE\n",
        "    ========== \"\"\"\n",
        "\n",
        "    plt.figure()\n",
        "\n",
        "    for i in range(10):\n",
        "        plt.subplot(2, 5, i+1)\n",
        "        image = X_train[i]\n",
        "        plt.title(f\"Train: {y_train[i]} \")\n",
        "        plt.imshow(image, cmap=\"gray\")\n",
        "        plt.axis(\"off\")\n",
        "        plt.tight_layout()"
      ]
    },
    {
      "cell_type": "code",
      "execution_count": 170,
      "metadata": {
        "id": "gbEN8mfyI5V_",
        "colab": {
          "base_uri": "https://localhost:8080/",
          "height": 341
        },
        "outputId": "c28be38e-a506-4f1e-ec2d-fe1dc6aa88d0"
      },
      "outputs": [
        {
          "output_type": "display_data",
          "data": {
            "text/plain": [
              "<Figure size 640x480 with 10 Axes>"
            ],
            "image/png": "[encoded data removed]"
          },
          "metadata": {}
        }
      ],
      "source": [
        "# PLOT CODE\n",
        "plot_mnist_sample_high_res(X_train, y_train)"
      ]
    },
    {
      "cell_type": "markdown",
      "source": [
        "- **DataBatch** is a generator that yields batches of data and corresponding labels. It can optionally shuffle the data before yielding the batches. **Test** evaluates the classifier's accuracy on the test data."
      ],
      "metadata": {
        "id": "DvmgLSrKWY1n"
      }
    },
    {
      "cell_type": "code",
      "source": [
        "def DataBatch(data, label, batchsize, shuffle=True):\n",
        "    \"\"\"\n",
        "    This function provides a generator for batches of data that\n",
        "    yields data (batchsize, 3, 32, 32) and labels (batchsize)\n",
        "    if shuffle, it will load batches in a random order\n",
        "    \"\"\"\n",
        "    n = data.shape[0]\n",
        "    if shuffle:\n",
        "        index = np.random.permutation(n)\n",
        "    else:\n",
        "        index = np.arange(n)\n",
        "    for i in range(int(np.ceil(n/batchsize))):\n",
        "        inds = index[i*batchsize : min(n,(i+1)*batchsize)]\n",
        "        yield data[inds], label[inds]\n",
        "\n",
        "def test(testData, testLabels, classifier):\n",
        "    \"\"\"\n",
        "    Call this function to test the accuracy of a classifier\n",
        "    \"\"\"\n",
        "    batchsize=50\n",
        "    correct=0.\n",
        "    for data,label in DataBatch(testData,testLabels,batchsize,shuffle=False):\n",
        "        prediction = classifier(data)\n",
        "        correct += np.sum(prediction==label)\n",
        "    return correct/testData.shape[0]*100"
      ],
      "metadata": {
        "id": "W_NilBrgJLK7"
      },
      "execution_count": 171,
      "outputs": []
    },
    {
      "cell_type": "markdown",
      "source": [
        "- This code defines a base class for our deep neural network (`DNN`) in PyTorch. It provides a foundation for building and training custom neural networks by implementing a training loop (`train_net`). The class includes methods for initializing the network, performing forward passes, and training the network using stochastic gradient descent and cross-entropy loss."
      ],
      "metadata": {
        "id": "UsqxZUECWLDN"
      }
    },
    {
      "cell_type": "code",
      "execution_count": 172,
      "metadata": {
        "id": "YZRD-RQlJD8u"
      },
      "outputs": [],
      "source": [
        "# base class for your deep neural networks. It implements the training loop (train_net).\n",
        "import torch.nn.init\n",
        "import torch.optim as optim\n",
        "from torch.autograd import Variable\n",
        "from torch.nn.parameter import Parameter\n",
        "from tqdm import tqdm\n",
        "from scipy.stats import truncnorm\n",
        "\n",
        "class DNN(nn.Module):\n",
        "    def __init__(self):\n",
        "        super(DNN, self).__init__()\n",
        "        pass\n",
        "\n",
        "    def forward(self, x):\n",
        "        raise NotImplementedError\n",
        "\n",
        "    def train_net(self, X_train, y_train, epochs=1, batchSize=50):\n",
        "\n",
        "        # criterion selection, i.e, loss function\n",
        "        criterion = nn.CrossEntropyLoss()\n",
        "        # optimizer selection, using `optim.`\n",
        "        optimizer = optim.SGD(self.parameters(),lr=0.01)\n",
        "        losses = []\n",
        "        # For each epoch\n",
        "        for epoch in range(epochs):\n",
        "          sum_loss = 0.0\n",
        "          # For each batch\n",
        "          for i in tqdm(range(0, len(X_train), batchSize)):\n",
        "          #for i , batch in enumerate(X_train,0):\n",
        "              # Assign inputs and labels using PyTorch's autograd package via Variable\n",
        "              inputs = Variable(torch.FloatTensor(X_train[i:i+batchSize]))\n",
        "              labels = Variable(torch.LongTensor(y_train[i:i+batchSize]))\n",
        "              # Forward pass\n",
        "              optimizer.zero_grad()\n",
        "              outputs = self.forward(inputs)\n",
        "              # Compute loss\n",
        "              loss = criterion(outputs, labels)\n",
        "              # Backward pass\n",
        "              loss.backward()\n",
        "              # Weight update\n",
        "              optimizer.step()\n",
        "              # Final loss\n",
        "              losses.append(loss.item())\n",
        "              sum_loss += loss.item()\n",
        "\n",
        "          print(f\"Epoch {epoch + 1}, Loss: {sum_loss / (len(X_train) // batchSize)}\")\n",
        "\n",
        "    def __call__(self, x):\n",
        "        inputs = Variable(torch.FloatTensor(x))\n",
        "        prediction = self.forward(inputs)\n",
        "        return np.argmax(prediction.data.cpu().numpy(), 1)\n",
        ""
      ]
    },
    {
      "cell_type": "markdown",
      "metadata": {
        "id": "HU05gCjLLXtl"
      },
      "source": [
        "Bellow is the implementaion of the CNN classifier:\n",
        "\n",
        "\n",
        "*   n=10 (output features or filters)\n",
        "*   Leaky_ReLU( Conv(kernel_size=5x5, stride=2, output_features=n) )\n",
        "*   Leaky_ReLU( Conv(kernel_size=5x5, stride=2, output_features=n*2) )\n",
        "*   Leaky_ReLU( Linear(hidden units = 64) )\n",
        "*   Linear(output_features=classes)\n",
        "\n",
        "Two convolutional layers (Conv Layers) that map the input of the previous layer non-linearly (ReLU), followed by 1 fully connected hidden layer (FC hidden layer) with non-linear activation (ReLU), and then the output layer, which combines linearly the values of the previous layer.\n",
        "\n",
        "\n",
        "\n",
        "\n"
      ]
    },
    {
      "cell_type": "code",
      "execution_count": 173,
      "metadata": {
        "id": "EPsk-ZOJKlw4"
      },
      "outputs": [],
      "source": [
        "import torch\n",
        "import torch.nn as nn\n",
        "import torch.nn.functional as F\n",
        "import seaborn as sn\n",
        "\n",
        "# Defining a Convolutional Neural Network\n",
        "class CNNClassifier(DNN):\n",
        "    def __init__(self, classes=10, n=10):\n",
        "        super(CNNClassifier, self).__init__()\n",
        "        \"\"\"\n",
        "        Initialization of the CNN layers using torch.nn.Conv2d and torch.nn.Linear\n",
        "        \"\"\"\n",
        "        # First Convolutional Layer:\n",
        "        self.conv1 = nn.Conv2d(in_channels=1, out_channels=n, kernel_size=5, stride=2, padding=2)\n",
        "\n",
        "        # Second Convolutional Layer:\n",
        "        self.conv2 = nn.Conv2d(in_channels=n, out_channels=2*n, kernel_size=5, stride=2, padding=2)\n",
        "\n",
        "        # Fully Connected Layers\n",
        "        self.fc1 = nn.Linear(2 * n * 7 * 7, 64)  # Flattened input size from second conv layer to 64 neurons\n",
        "        self.fc2 = nn.Linear(64, classes)        # From 64 neurons to number of classes (e.g., 10 for MNIST)\n",
        "\n",
        "    def forward(self, x):\n",
        "        \"\"\"\n",
        "        Forward pass of the CNNClassifier\n",
        "        \"\"\"\n",
        "        # Reshape input to match the expected dimensions for Conv2d: (batch_size, channels, height, width)\n",
        "        x = x.view(x.size(0), 1, 28, 28)\n",
        "\n",
        "        # Apply first convolutional layer followed by ReLU activation\n",
        "        x = F.leaky_relu(self.conv1(x))  # Output: (batch_size, n, 14, 14)\n",
        "\n",
        "        # Apply second convolutional layer followed by ReLU activation\n",
        "        x = F.leaky_relu(self.conv2(x))  # Output: (batch_size, 2*n, 7, 7)\n",
        "\n",
        "        # Flatten the output of the second convolutional layer\n",
        "        x = x.view(x.size(0), -1)\n",
        "\n",
        "        # Apply the first fully connected layer followed by ReLU activation\n",
        "        x = F.leaky_relu(self.fc1(x))    # Output: (batch_size, 64)\n",
        "\n",
        "        # Apply the second fully connected layer for the final output\n",
        "        x = self.fc2(x)            # Output: (batch_size, number of classes)\n",
        "        self.y = x\n",
        "\n",
        "        return x\n",
        "\n",
        "X_train = np.float32(X_train) / 255.0\n",
        "X_train = X_train.reshape(-1, 1, 28, 28)\n",
        "\n",
        "X_test = np.float32(X_test) / 255.0\n",
        "X_test = X_test.reshape(-1, 1, 28, 28)\n"
      ]
    },
    {
      "cell_type": "code",
      "source": [
        "# Instantiate and train the model\n",
        "cnnClassifier = CNNClassifier()\n",
        "cnnClassifier.train_net(X_train, y_train, epochs=10, batchSize=50)"
      ],
      "metadata": {
        "colab": {
          "base_uri": "https://localhost:8080/"
        },
        "id": "9fZtTGYXPty2",
        "outputId": "a97eadaa-cad3-4e93-bfcf-63cdb688eee7"
      },
      "execution_count": 174,
      "outputs": [
        {
          "output_type": "stream",
          "name": "stderr",
          "text": [
            "100%|██████████| 1200/1200 [00:10<00:00, 116.58it/s]\n"
          ]
        },
        {
          "output_type": "stream",
          "name": "stdout",
          "text": [
            "Epoch 1, Loss: 1.736793552832678\n"
          ]
        },
        {
          "output_type": "stream",
          "name": "stderr",
          "text": [
            "100%|██████████| 1200/1200 [00:10<00:00, 116.05it/s]\n"
          ]
        },
        {
          "output_type": "stream",
          "name": "stdout",
          "text": [
            "Epoch 2, Loss: 0.3553081815224141\n"
          ]
        },
        {
          "output_type": "stream",
          "name": "stderr",
          "text": [
            "100%|██████████| 1200/1200 [00:09<00:00, 132.38it/s]\n"
          ]
        },
        {
          "output_type": "stream",
          "name": "stdout",
          "text": [
            "Epoch 3, Loss: 0.2525371808356916\n"
          ]
        },
        {
          "output_type": "stream",
          "name": "stderr",
          "text": [
            "100%|██████████| 1200/1200 [00:11<00:00, 104.48it/s]\n"
          ]
        },
        {
          "output_type": "stream",
          "name": "stdout",
          "text": [
            "Epoch 4, Loss: 0.19290832174010575\n"
          ]
        },
        {
          "output_type": "stream",
          "name": "stderr",
          "text": [
            "100%|██████████| 1200/1200 [00:10<00:00, 115.67it/s]\n"
          ]
        },
        {
          "output_type": "stream",
          "name": "stdout",
          "text": [
            "Epoch 5, Loss: 0.1571121386407564\n"
          ]
        },
        {
          "output_type": "stream",
          "name": "stderr",
          "text": [
            "100%|██████████| 1200/1200 [00:10<00:00, 115.13it/s]\n"
          ]
        },
        {
          "output_type": "stream",
          "name": "stdout",
          "text": [
            "Epoch 6, Loss: 0.13294834939956976\n"
          ]
        },
        {
          "output_type": "stream",
          "name": "stderr",
          "text": [
            "100%|██████████| 1200/1200 [00:09<00:00, 128.99it/s]\n"
          ]
        },
        {
          "output_type": "stream",
          "name": "stdout",
          "text": [
            "Epoch 7, Loss: 0.11531821783438015\n"
          ]
        },
        {
          "output_type": "stream",
          "name": "stderr",
          "text": [
            "100%|██████████| 1200/1200 [00:10<00:00, 118.49it/s]\n"
          ]
        },
        {
          "output_type": "stream",
          "name": "stdout",
          "text": [
            "Epoch 8, Loss: 0.10201699481500934\n"
          ]
        },
        {
          "output_type": "stream",
          "name": "stderr",
          "text": [
            "100%|██████████| 1200/1200 [00:10<00:00, 119.57it/s]\n"
          ]
        },
        {
          "output_type": "stream",
          "name": "stdout",
          "text": [
            "Epoch 9, Loss: 0.09164865892593904\n"
          ]
        },
        {
          "output_type": "stream",
          "name": "stderr",
          "text": [
            "100%|██████████| 1200/1200 [00:08<00:00, 137.75it/s]"
          ]
        },
        {
          "output_type": "stream",
          "name": "stdout",
          "text": [
            "Epoch 10, Loss: 0.08330837088753469\n"
          ]
        },
        {
          "output_type": "stream",
          "name": "stderr",
          "text": [
            "\n"
          ]
        }
      ]
    },
    {
      "cell_type": "code",
      "source": [
        "# Check also standard accucary of test() for consistency\n",
        "print ('CNN classifier accuracy: %f'%test(X_test, y_test, cnnClassifier))"
      ],
      "metadata": {
        "colab": {
          "base_uri": "https://localhost:8080/"
        },
        "id": "xd7F6no7F1k5",
        "outputId": "c09abf17-16c9-45d7-d7ca-10e9374dea05"
      },
      "execution_count": 175,
      "outputs": [
        {
          "output_type": "stream",
          "name": "stdout",
          "text": [
            "CNN classifier accuracy: 97.290000\n"
          ]
        }
      ]
    },
    {
      "cell_type": "code",
      "execution_count": 176,
      "metadata": {
        "id": "bmXFgYWdOTEx",
        "colab": {
          "base_uri": "https://localhost:8080/",
          "height": 472
        },
        "outputId": "81c0e03e-84c5-48bb-a1bb-cd43af1a96f8"
      },
      "outputs": [
        {
          "output_type": "display_data",
          "data": {
            "text/plain": [
              "<Figure size 640x480 with 2 Axes>"
            ],
            "image/png": "[encoded data removed]"
          },
          "metadata": {}
        }
      ],
      "source": [
        "from sklearn.metrics import confusion_matrix, ConfusionMatrixDisplay\n",
        "import matplotlib.pyplot as plt\n",
        "\n",
        "y_pred = cnnClassifier(X_test)\n",
        "\n",
        "# Calculate the confusion matrix\n",
        "cm = confusion_matrix(y_test, y_pred)\n",
        "\n",
        "# Display the confusion matrix\n",
        "disp = ConfusionMatrixDisplay(confusion_matrix=cm)\n",
        "disp.plot(cmap=plt.cm.Blues)\n",
        "plt.title(\"Confusion Matrix\")\n",
        "plt.show()"
      ]
    },
    {
      "cell_type": "markdown",
      "source": [
        " - **Test** the model with specific digit images. You can load images to the path, in order to see the classifier \"working\". You can preprocess the image with **load_digit_image()** for best results."
      ],
      "metadata": {
        "id": "iNoTdrZycETi"
      }
    },
    {
      "cell_type": "code",
      "source": [
        "from PIL import Image\n",
        "import numpy as np\n",
        "import torch\n",
        "\n",
        "def load_digit_image(file_path):\n",
        "    \"\"\"\n",
        "    Load and preprocess a digit image from a file.\n",
        "    \"\"\"\n",
        "    # Load the image\n",
        "    img = Image.open(file_path).convert('L')  # Convert to grayscale\n",
        "    # Invert colors if necessary (white digits on black background)\n",
        "    image = Image.fromarray(255 - np.array(img))\n",
        "    # Resize to 28x28 pixels\n",
        "    img = img.resize((28, 28))\n",
        "\n",
        "    # Convert to numpy array and normalize\n",
        "    img_array = np.array(img, dtype=np.float32) / 255.0\n",
        "\n",
        "    # Reshape to (1, 1, 28, 28) for PyTorch\n",
        "    img_tensor = torch.tensor(img_array).unsqueeze(0).unsqueeze(0)\n",
        "\n",
        "    return img_tensor\n"
      ],
      "metadata": {
        "id": "YJa9osB2Qu3g"
      },
      "execution_count": 177,
      "outputs": []
    },
    {
      "cell_type": "code",
      "source": [
        "prediction = cnnClassifier(load_digit_image('/content/Ds5Rc.png'))\n",
        "if(prediction == 3):\n",
        "  print(\"True\")\n",
        "else:\n",
        "  print(\"False\")\n"
      ],
      "metadata": {
        "colab": {
          "base_uri": "https://localhost:8080/"
        },
        "id": "w5r9LLEnR13P",
        "outputId": "185875ea-3c2f-4130-d5d9-3ea9984816d4"
      },
      "execution_count": 201,
      "outputs": [
        {
          "output_type": "stream",
          "name": "stdout",
          "text": [
            "True\n"
          ]
        }
      ]
    }
  ],
  "metadata": {
    "accelerator": "GPU",
    "colab": {
      "gpuType": "T4",
      "provenance": [],
      "authorship_tag": "ABX9TyMBPs4vB1vIS55/Tu7QLTTy",
      "include_colab_link": true
    },
    "kernelspec": {
      "display_name": "Python 3",
      "name": "python3"
    },
    "language_info": {
      "name": "python"
    }
  },
  "nbformat": 4,
  "nbformat_minor": 0
}